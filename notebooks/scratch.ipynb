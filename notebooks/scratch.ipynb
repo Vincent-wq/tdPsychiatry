{
 "cells": [
  {
   "cell_type": "markdown",
   "metadata": {},
   "source": [
    "# Transdiagnosis data scratching book\n",
    "\n",
    "## 1. Harmonizing differencet datasets\n",
    "    \n",
    "    a. Mental disorders diagnosis: ;\n",
    "    b. Phynotypes: age, sex, ;\n",
    "    c. participant_id: anonymized subject id across datasets, sub-<dataset>_<Number>;\n",
    "    d. Imaging modalities: sMRI + rsfMRI;\n",
    "\n",
    "## 2. \n"
   ]
  },
  {
   "cell_type": "code",
   "execution_count": 1,
   "metadata": {},
   "outputs": [],
   "source": [
    "# libs and envs\n",
    "import sys\n",
    "proj_path_str='/scratch/tdPsychiatry'\n",
    "private_data_path_str='/scratch/private_data'\n",
    "sys.path.append(proj_path_str)\n",
    "from pathlib import Path\n",
    "import pandas as pd\n",
    "import numpy as np\n",
    "\n",
    "# main PATH\n",
    "main_dir = Path(proj_path_str)\n",
    "private_data_dir = Path(private_data_path_str)\n",
    "data_dir = main_dir / 'data' \n",
    "fig_dir =  main_dir / 'figs' "
   ]
  },
  {
   "cell_type": "markdown",
   "metadata": {},
   "source": [
    "## Dataset1: SMHC\n",
    "\n",
    "### 1. Jiang version (preprocessed T1+DWI feature table with demographics and imaging features from the imaging platform): \n",
    "\n",
    "<Original 2022 paper>\n",
    "    \n",
    "    a. Mental disorders diagnosis: schizophrenia (SZ), obsessive-compulsive disorder (OCD), bipolar disorder (BD), major depressive disorder (MDD) and healthy subjects (HC); Sample sizes: SZ:171 (98/73), OCD:205 (116 / 89), BD:197 (82 / 115), MDD:136 (46 / 90), HC: 414 (185 / 229);\n",
    "    b. Phynotypes: age, sex;\n",
    "    c. participant_id: subject ID need to be anonymized;\n",
    "    d. Imaging modalities: sMRI + rsfMRI;\n",
    "    e. Software version: FreeSurfer 6.0 + **automated hippocampal subfield** segmentation method of Iglesias et al.\n",
    "    f. Analysis: GLM: age, sex, eTIV.\n",
    "\n",
    "<Current dataset: need to be updated>\n",
    "\n",
    "    a. Mental disorders diagnosis: schizophrenia (SZ), obsessive-compulsive disorder (OCD), bipolar disorder (BD), major depressive disorder (MDD) and healthy subjects (HC); Sample sizes: SZ:171 (98/73), OCD:205 (116 / 89), BD:197 (82 / 115), MDD:136 (46 / 90), HC: 414 (185 / 229);\n",
    "    b. Phynotypes: age, sex;\n",
    "    c. participant_id: subject ID need to be anonymized;\n",
    "    d. Imaging modalities: sMRI + rsfMRI;\n",
    "    e. Software version: FreeSurfer 6.0 + automated hippocampal subfield segmentation method of Iglesias et al.\n",
    "    f. Analysis: GLM: age, sex, eTIV.\n",
    "    \n",
    "### 2. Qiao version (mainly imgaing, including T1, rs-fMRI, DWI): \n",
    "    \n",
    "    a. T1+rsfMRI: 1564, T1+DWI: 655, T1+REST+DWI: 643;\n",
    "    b. This is the preprocessed data after QA (REST: MaxRot <= 3 degrees, MaxTrans <= 3 mm, MeanFD <= 0.5 mm, mcBBR <= 0.75);\n",
    "    c. Using <encoding = utf_8_sig> for Chinese texts;   \n",
    "\n",
    "### 3.tbd "
   ]
  },
  {
   "cell_type": "code",
   "execution_count": 2,
   "metadata": {},
   "outputs": [
    {
     "name": "stderr",
     "output_type": "stream",
     "text": [
      "/tmp/ipykernel_32518/3929875533.py:5: DtypeWarning: Columns (45,68,1446,1449,1450,1451,1452,1454,1455,1456,1457) have mixed types. Specify dtype option on import or set low_memory=False.\n",
      "  jiang_data = pd.read_csv(smhc_data, sep=',')\n"
     ]
    }
   ],
   "source": [
    "# Tabular data files \n",
    "smhc_jiang_data = private_data_dir / 'SMHC_transDiagnostic' / 'imaging-features_Jiang.csv'  # Inormation from download database.\n",
    "\n",
    "# read subject demnographics \n",
    "jiang_df = pd.read_csv(smhc_data, sep=',')"
   ]
  },
  {
   "cell_type": "code",
   "execution_count": null,
   "metadata": {},
   "outputs": [],
   "source": []
  },
  {
   "cell_type": "code",
   "execution_count": 1,
   "metadata": {},
   "outputs": [
    {
     "ename": "NameError",
     "evalue": "name 'jiang_data' is not defined",
     "output_type": "error",
     "traceback": [
      "\u001b[0;31m---------------------------------------------------------------------------\u001b[0m",
      "\u001b[0;31mNameError\u001b[0m                                 Traceback (most recent call last)",
      "\u001b[1;32m/scratch/tdPsychiatry/notebooks/scratch.ipynb Cell 6\u001b[0m in \u001b[0;36m<cell line: 1>\u001b[0;34m()\u001b[0m\n\u001b[0;32m----> <a href='vscode-notebook-cell://attached-container%2B7b22636f6e7461696e65724e616d65223a222f66756e6e795f7061796e65227d/scratch/tdPsychiatry/notebooks/scratch.ipynb#W5sdnNjb2RlLXJlbW90ZQ%3D%3D?line=0'>1</a>\u001b[0m jiang_data\u001b[39m.\u001b[39mhead(\u001b[39m3\u001b[39m)\n",
      "\u001b[0;31mNameError\u001b[0m: name 'jiang_data' is not defined"
     ]
    }
   ],
   "source": [
    "jiang_data.head(3)"
   ]
  },
  {
   "cell_type": "markdown",
   "metadata": {},
   "source": [
    "# Dataset2: SRPBS-1600\n",
    "\n",
    "    1. Demographics: ;\n",
    "    2. Imaging: T1+rs-fMRI;\n",
    "    3. ;"
   ]
  },
  {
   "cell_type": "markdown",
   "metadata": {},
   "source": [
    "# Dataset3: ABCD-4.0 \n",
    "\n",
    "    1. "
   ]
  },
  {
   "cell_type": "markdown",
   "metadata": {},
   "source": [
    "# Dataset4: NSPN-2k\n",
    "\n",
    "    1. \n",
    "    2. "
   ]
  },
  {
   "cell_type": "markdown",
   "metadata": {},
   "source": [
    "# Dataset5: UKB"
   ]
  },
  {
   "cell_type": "markdown",
   "metadata": {},
   "source": [
    "# Dataset6: HBN"
   ]
  }
 ],
 "metadata": {
  "kernelspec": {
   "display_name": "Python 3.9.12 ('base')",
   "language": "python",
   "name": "python3"
  },
  "language_info": {
   "codemirror_mode": {
    "name": "ipython",
    "version": 3
   },
   "file_extension": ".py",
   "mimetype": "text/x-python",
   "name": "python",
   "nbconvert_exporter": "python",
   "pygments_lexer": "ipython3",
   "version": "3.9.12"
  },
  "orig_nbformat": 4,
  "vscode": {
   "interpreter": {
    "hash": "d4d1e4263499bec80672ea0156c357c1ee493ec2b1c70f0acce89fc37c4a6abe"
   }
  }
 },
 "nbformat": 4,
 "nbformat_minor": 2
}
