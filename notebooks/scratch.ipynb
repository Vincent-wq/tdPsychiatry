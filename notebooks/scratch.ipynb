{
 "cells": [
  {
   "cell_type": "markdown",
   "metadata": {},
   "source": [
    "# Transdiagnosis data scratching book\n",
    "\n",
    "## 1. Harmonizing differencet datasets\n",
    "    \n",
    "    a. Mental disorders diagnosis: ;\n",
    "    b. Phynotypes: age, sex, ;\n",
    "    c. participant_id: anonymized subject id across datasets, sub-<dataset>_<Number>;\n",
    "    d. Imaging modalities: sMRI + rsfMRI;\n",
    "    e. Visits: baseline\n",
    "\n",
    "## 2. Cross datasets fields\n",
    "\n",
    "    a. participant_id: unified subject ID, format: sub-<dataset>-<subjectID>;\n",
    "    b. sex: the gender of this subject, format: String in ('M', 'F', 'None');\n",
    "    c. age: age of the subject when the observations are taken, format, <double>;\n",
    "    d. group: the diagnosis or group label: <str> in ('SZ', 'OCD', 'MDD', 'BD', 'Pain', 'XXX', 'NC');\n",
    "    e. visit: the number of visits, int in {0: screening, 1: baseline, 2: second visit (time should be specified)};\n",
    "    f.\n",
    "    e. tbd\n"
   ]
  },
  {
   "cell_type": "code",
   "execution_count": 2,
   "metadata": {},
   "outputs": [],
   "source": [
    "# libs and envs\n",
    "import sys\n",
    "proj_path_str='/scratch/tdPsychiatry'\n",
    "private_data_path_str='/scratch/data_private'\n",
    "sys.path.append(proj_path_str)\n",
    "from pathlib import Path\n",
    "import pandas as pd\n",
    "import numpy as np\n",
    "import seaborn as sns\n",
    "\n",
    "# main PATH\n",
    "main_dir = Path(proj_path_str)\n",
    "private_data_dir = Path(private_data_path_str)\n",
    "data_dir = main_dir / 'data' \n",
    "fig_dir =  main_dir / 'figs' "
   ]
  },
  {
   "cell_type": "markdown",
   "metadata": {},
   "source": [
    "## Dataset1: SMHC\n",
    "\n",
    "### 1. Jiang version (preprocessed T1+DWI feature table with demographics and imaging features from the imaging platform): \n",
    "\n",
    "<Original 2022 paper>\n",
    "    \n",
    "    a. Mental disorders diagnosis: schizophrenia (SZ), obsessive-compulsive disorder (OCD), bipolar disorder (BD), major depressive disorder (MDD) and healthy subjects (HC); Sample sizes: SZ:171 (98/73), OCD:205 (116 / 89), BD:197 (82 / 115), MDD:136 (46 / 90), HC: 414 (185 / 229);\n",
    "    b. Phynotypes: age, sex;\n",
    "    c. participant_id: subject ID need to be anonymized;\n",
    "    d. Imaging modalities: sMRI + rsfMRI;\n",
    "    e. Visits: baseline\n",
    "    f. Software version: FreeSurfer 6.0 + **automated hippocampal subfield** segmentation method of Iglesias et al.\n",
    "    g. Analysis: GLM: age, sex, eTIV.\n",
    "\n",
    "<Current dataset: need to be updated>\n",
    "\n",
    "    a. Mental disorders diagnosis: schizophrenia (SZ), obsessive-compulsive disorder (OCD), bipolar disorder (BD), major depressive disorder (MDD) and healthy subjects (HC); Sample sizes: SZ:171 (98/73), OCD:205 (116 / 89), BD:197 (82 / 115), MDD:136 (46 / 90), HC: 414 (185 / 229);\n",
    "    b. Phynotypes: age, sex;\n",
    "    c. participant_id: subject ID need to be anonymized;\n",
    "    d. Imaging modalities: sMRI + rsfMRI;\n",
    "    e. Visits: baseline\n",
    "    f. Software version: FreeSurfer 6.0 + automated hippocampal subfield segmentation method of Iglesias et al.\n",
    "    g. Analysis: GLM: age, sex, eTIV.\n",
    "    \n",
    "### 2. Qiao version (mainly imgaing, including T1, rs-fMRI, DWI): \n",
    "    \n",
    "    a. T1+rsfMRI: 1564, T1+DWI: 655, T1+REST+DWI: 643;\n",
    "    b. This is the preprocessed data after QA (REST: MaxRot <= 3 degrees, MaxTrans <= 3 mm, MeanFD <= 0.5 mm, mcBBR <= 0.75);\n",
    "    c. Using <encoding = utf_8_sig> for Chinese texts;   \n",
    "\n",
    "### 3.tbd "
   ]
  },
  {
   "cell_type": "code",
   "execution_count": 3,
   "metadata": {},
   "outputs": [
    {
     "name": "stderr",
     "output_type": "stream",
     "text": [
      "/tmp/ipykernel_2204/3044230623.py:6: DtypeWarning: Columns (45,68,1446,1449,1450,1451,1452,1454,1455,1456,1457) have mixed types. Specify dtype option on import or set low_memory=False.\n",
      "  jiang_raw_df = pd.read_csv(smhc_jiang_data, sep=',')\n"
     ]
    }
   ],
   "source": [
    "# Tabular data files \n",
    "smhc_jiang_data = private_data_dir / 'transDiagnostic_shmc' / 'imaging_features_Jiang.csv'  # Inormation from download database.\n",
    "smhc_qiao_data = private_data_dir / 'transDiagnostic_shmc' / 'demographics_T1+rsfMRI_Qiao.csv'  # Inormation from download database.\n",
    "\n",
    "# read subject demnographics \n",
    "jiang_raw_df = pd.read_csv(smhc_jiang_data, sep=',')\n",
    "qiao_raw_df  = pd.read_csv(smhc_qiao_data,  sep=',')"
   ]
  },
  {
   "cell_type": "code",
   "execution_count": 5,
   "metadata": {},
   "outputs": [
    {
     "name": "stdout",
     "output_type": "stream",
     "text": [
      "Jiang data n_subj-id:  2386\n",
      "Jiang data n_pait-id:  2061\n",
      "Jiang data n_pait-name:  2058\n",
      "Qiao data n_subj-id:  2386\n",
      "Jiang data diagnosis:  25\n",
      "Qiao data diagnosis:  25\n",
      "N subjects only in Jiang's dataaset 879\n"
     ]
    },
    {
     "data": {
      "text/plain": [
       "Index(['name', '性别', '诊断', '时间点', '年龄'], dtype='object')"
      ]
     },
     "execution_count": 5,
     "metadata": {},
     "output_type": "execute_result"
    }
   ],
   "source": [
    "# Showing \n",
    "print(\"Jiang data n_subj-id: \",   jiang_raw_df.loc[:,'name'].unique().size)\n",
    "print(\"Jiang data n_pait-id: \",   jiang_raw_df.loc[:,'病人ID'].unique().size)\n",
    "print(\"Jiang data n_pait-name: \", jiang_raw_df.loc[:,'病人名'].unique().size)\n",
    "print(\"Qiao data n_subj-id: \",    jiang_raw_df.loc[:,'name'].unique().size)\n",
    "\n",
    "print(\"Jiang data diagnosis: \", jiang_raw_df.loc[:,'诊断'].unique().size)\n",
    "print(\"Qiao data diagnosis: \",  qiao_raw_df.loc[:,'诊断'].unique().size)\n",
    "print('N subjects only in Jiang\\'s dataaset', len(set(jiang_raw_df.name.unique()) - set(qiao_raw_df.name.unique())))\n",
    "\n",
    "qiao_df=qiao_raw_df.drop(columns=['dataset', 'REST', 'MaxRot', 'MaxTrans', 'MeanFD', 'OutlierRatio', 'mcBBR'])\n",
    "qiao_col_name = ['name', 'sex', 'diagnosis', 'visit', 'age']\n",
    "qiao_df.columns=[]\n"
   ]
  },
  {
   "cell_type": "code",
   "execution_count": 4,
   "metadata": {},
   "outputs": [
    {
     "ename": "KeyError",
     "evalue": "'女'",
     "output_type": "error",
     "traceback": [
      "\u001b[0;31m---------------------------------------------------------------------------\u001b[0m",
      "\u001b[0;31mKeyError\u001b[0m                                  Traceback (most recent call last)",
      "\u001b[1;32m/scratch/tdPsychiatry/notebooks/scratch.ipynb Cell 6\u001b[0m in \u001b[0;36m<cell line: 3>\u001b[0;34m()\u001b[0m\n\u001b[1;32m      <a href='vscode-notebook-cell://attached-container%2B7b22636f6e7461696e65724e616d65223a222f66756e6e795f7061796e65227d/scratch/tdPsychiatry/notebooks/scratch.ipynb#X15sdnNjb2RlLXJlbW90ZQ%3D%3D?line=0'>1</a>\u001b[0m \u001b[39m#sns.displot(jiang_df, x=\"年龄\", col=\"诊断\", row=\"性别\")\u001b[39;00m\n\u001b[0;32m----> <a href='vscode-notebook-cell://attached-container%2B7b22636f6e7461696e65724e616d65223a222f66756e6e795f7061796e65227d/scratch/tdPsychiatry/notebooks/scratch.ipynb#X15sdnNjb2RlLXJlbW90ZQ%3D%3D?line=2'>3</a>\u001b[0m sns\u001b[39m.\u001b[39;49mviolinplot(data\u001b[39m=\u001b[39;49mjiang_df, x\u001b[39m=\u001b[39;49m\u001b[39m\"\u001b[39;49m\u001b[39m年龄\u001b[39;49m\u001b[39m\"\u001b[39;49m, y\u001b[39m=\u001b[39;49m\u001b[39m\"\u001b[39;49m\u001b[39m诊断\u001b[39;49m\u001b[39m\"\u001b[39;49m, hue\u001b[39m=\u001b[39;49m\u001b[39m\"\u001b[39;49m\u001b[39m性别\u001b[39;49m\u001b[39m\"\u001b[39;49m,\n\u001b[1;32m      <a href='vscode-notebook-cell://attached-container%2B7b22636f6e7461696e65724e616d65223a222f66756e6e795f7061796e65227d/scratch/tdPsychiatry/notebooks/scratch.ipynb#X15sdnNjb2RlLXJlbW90ZQ%3D%3D?line=3'>4</a>\u001b[0m                split\u001b[39m=\u001b[39;49m\u001b[39mTrue\u001b[39;49;00m, inner\u001b[39m=\u001b[39;49m\u001b[39m\"\u001b[39;49m\u001b[39mquart\u001b[39;49m\u001b[39m\"\u001b[39;49m, linewidth\u001b[39m=\u001b[39;49m\u001b[39m1\u001b[39;49m,\n\u001b[1;32m      <a href='vscode-notebook-cell://attached-container%2B7b22636f6e7461696e65724e616d65223a222f66756e6e795f7061796e65227d/scratch/tdPsychiatry/notebooks/scratch.ipynb#X15sdnNjb2RlLXJlbW90ZQ%3D%3D?line=4'>5</a>\u001b[0m                palette\u001b[39m=\u001b[39;49m{\u001b[39m\"\u001b[39;49m\u001b[39mYes\u001b[39;49m\u001b[39m\"\u001b[39;49m: \u001b[39m\"\u001b[39;49m\u001b[39mb\u001b[39;49m\u001b[39m\"\u001b[39;49m, \u001b[39m\"\u001b[39;49m\u001b[39mNo\u001b[39;49m\u001b[39m\"\u001b[39;49m: \u001b[39m\"\u001b[39;49m\u001b[39m.85\u001b[39;49m\u001b[39m\"\u001b[39;49m})\n",
      "File \u001b[0;32m/opt/conda/lib/python3.9/site-packages/seaborn/_decorators.py:46\u001b[0m, in \u001b[0;36m_deprecate_positional_args.<locals>.inner_f\u001b[0;34m(*args, **kwargs)\u001b[0m\n\u001b[1;32m     36\u001b[0m     warnings\u001b[39m.\u001b[39mwarn(\n\u001b[1;32m     37\u001b[0m         \u001b[39m\"\u001b[39m\u001b[39mPass the following variable\u001b[39m\u001b[39m{}\u001b[39;00m\u001b[39m as \u001b[39m\u001b[39m{}\u001b[39;00m\u001b[39mkeyword arg\u001b[39m\u001b[39m{}\u001b[39;00m\u001b[39m: \u001b[39m\u001b[39m{}\u001b[39;00m\u001b[39m. \u001b[39m\u001b[39m\"\u001b[39m\n\u001b[1;32m     38\u001b[0m         \u001b[39m\"\u001b[39m\u001b[39mFrom version 0.12, the only valid positional argument \u001b[39m\u001b[39m\"\u001b[39m\n\u001b[0;32m   (...)\u001b[0m\n\u001b[1;32m     43\u001b[0m         \u001b[39mFutureWarning\u001b[39;00m\n\u001b[1;32m     44\u001b[0m     )\n\u001b[1;32m     45\u001b[0m kwargs\u001b[39m.\u001b[39mupdate({k: arg \u001b[39mfor\u001b[39;00m k, arg \u001b[39min\u001b[39;00m \u001b[39mzip\u001b[39m(sig\u001b[39m.\u001b[39mparameters, args)})\n\u001b[0;32m---> 46\u001b[0m \u001b[39mreturn\u001b[39;00m f(\u001b[39m*\u001b[39;49m\u001b[39m*\u001b[39;49mkwargs)\n",
      "File \u001b[0;32m/opt/conda/lib/python3.9/site-packages/seaborn/categorical.py:2400\u001b[0m, in \u001b[0;36mviolinplot\u001b[0;34m(x, y, hue, data, order, hue_order, bw, cut, scale, scale_hue, gridsize, width, inner, split, dodge, orient, linewidth, color, palette, saturation, ax, **kwargs)\u001b[0m\n\u001b[1;32m   2388\u001b[0m \u001b[39m@_deprecate_positional_args\u001b[39m\n\u001b[1;32m   2389\u001b[0m \u001b[39mdef\u001b[39;00m \u001b[39mviolinplot\u001b[39m(\n\u001b[1;32m   2390\u001b[0m     \u001b[39m*\u001b[39m,\n\u001b[0;32m   (...)\u001b[0m\n\u001b[1;32m   2397\u001b[0m     ax\u001b[39m=\u001b[39m\u001b[39mNone\u001b[39;00m, \u001b[39m*\u001b[39m\u001b[39m*\u001b[39mkwargs,\n\u001b[1;32m   2398\u001b[0m ):\n\u001b[0;32m-> 2400\u001b[0m     plotter \u001b[39m=\u001b[39m _ViolinPlotter(x, y, hue, data, order, hue_order,\n\u001b[1;32m   2401\u001b[0m                              bw, cut, scale, scale_hue, gridsize,\n\u001b[1;32m   2402\u001b[0m                              width, inner, split, dodge, orient, linewidth,\n\u001b[1;32m   2403\u001b[0m                              color, palette, saturation)\n\u001b[1;32m   2405\u001b[0m     \u001b[39mif\u001b[39;00m ax \u001b[39mis\u001b[39;00m \u001b[39mNone\u001b[39;00m:\n\u001b[1;32m   2406\u001b[0m         ax \u001b[39m=\u001b[39m plt\u001b[39m.\u001b[39mgca()\n",
      "File \u001b[0;32m/opt/conda/lib/python3.9/site-packages/seaborn/categorical.py:523\u001b[0m, in \u001b[0;36m_ViolinPlotter.__init__\u001b[0;34m(self, x, y, hue, data, order, hue_order, bw, cut, scale, scale_hue, gridsize, width, inner, split, dodge, orient, linewidth, color, palette, saturation)\u001b[0m\n\u001b[1;32m    517\u001b[0m \u001b[39mdef\u001b[39;00m \u001b[39m__init__\u001b[39m(\u001b[39mself\u001b[39m, x, y, hue, data, order, hue_order,\n\u001b[1;32m    518\u001b[0m              bw, cut, scale, scale_hue, gridsize,\n\u001b[1;32m    519\u001b[0m              width, inner, split, dodge, orient, linewidth,\n\u001b[1;32m    520\u001b[0m              color, palette, saturation):\n\u001b[1;32m    522\u001b[0m     \u001b[39mself\u001b[39m\u001b[39m.\u001b[39mestablish_variables(x, y, hue, data, orient, order, hue_order)\n\u001b[0;32m--> 523\u001b[0m     \u001b[39mself\u001b[39;49m\u001b[39m.\u001b[39;49mestablish_colors(color, palette, saturation)\n\u001b[1;32m    524\u001b[0m     \u001b[39mself\u001b[39m\u001b[39m.\u001b[39mestimate_densities(bw, cut, scale, scale_hue, gridsize)\n\u001b[1;32m    526\u001b[0m     \u001b[39mself\u001b[39m\u001b[39m.\u001b[39mgridsize \u001b[39m=\u001b[39m gridsize\n",
      "File \u001b[0;32m/opt/conda/lib/python3.9/site-packages/seaborn/categorical.py:306\u001b[0m, in \u001b[0;36m_CategoricalPlotter.establish_colors\u001b[0;34m(self, color, palette, saturation)\u001b[0m\n\u001b[1;32m    304\u001b[0m         \u001b[39melse\u001b[39;00m:\n\u001b[1;32m    305\u001b[0m             levels \u001b[39m=\u001b[39m \u001b[39mself\u001b[39m\u001b[39m.\u001b[39mhue_names\n\u001b[0;32m--> 306\u001b[0m         palette \u001b[39m=\u001b[39m [palette[l] \u001b[39mfor\u001b[39;00m l \u001b[39min\u001b[39;00m levels]\n\u001b[1;32m    308\u001b[0m     colors \u001b[39m=\u001b[39m color_palette(palette, n_colors)\n\u001b[1;32m    310\u001b[0m \u001b[39m# Desaturate a bit because these are patches\u001b[39;00m\n",
      "File \u001b[0;32m/opt/conda/lib/python3.9/site-packages/seaborn/categorical.py:306\u001b[0m, in \u001b[0;36m<listcomp>\u001b[0;34m(.0)\u001b[0m\n\u001b[1;32m    304\u001b[0m         \u001b[39melse\u001b[39;00m:\n\u001b[1;32m    305\u001b[0m             levels \u001b[39m=\u001b[39m \u001b[39mself\u001b[39m\u001b[39m.\u001b[39mhue_names\n\u001b[0;32m--> 306\u001b[0m         palette \u001b[39m=\u001b[39m [palette[l] \u001b[39mfor\u001b[39;00m l \u001b[39min\u001b[39;00m levels]\n\u001b[1;32m    308\u001b[0m     colors \u001b[39m=\u001b[39m color_palette(palette, n_colors)\n\u001b[1;32m    310\u001b[0m \u001b[39m# Desaturate a bit because these are patches\u001b[39;00m\n",
      "\u001b[0;31mKeyError\u001b[0m: '女'"
     ]
    }
   ],
   "source": [
    "#sns.displot(jiang_df, x=\"年龄\", col=\"诊断\", row=\"性别\")\n",
    "\n",
    "sns.violinplot(data=jiang_df, x=\"年龄\", y=\"诊断\", hue=\"性别\",\n",
    "               split=True, inner=\"quart\", linewidth=1,\n",
    "               palette={\"Yes\": \"b\", \"No\": \".85\"})\n",
    "\n",
    "#sns.displot(qiao_df, x=\"年龄\", col=\"诊断\", row=\"性别\")"
   ]
  },
  {
   "cell_type": "markdown",
   "metadata": {},
   "source": [
    "# Dataset2: SRPBS-1600\n",
    "\n",
    "    1. Demographics: ;\n",
    "    2. Imaging: T1+rs-fMRI;\n",
    "    3. ;"
   ]
  },
  {
   "cell_type": "markdown",
   "metadata": {},
   "source": [
    "# Dataset3: ABCD-4.0 \n",
    "\n",
    "    1. "
   ]
  },
  {
   "cell_type": "markdown",
   "metadata": {},
   "source": [
    "# Dataset4: NSPN-2k\n",
    "\n",
    "    a. Mental disorders diagnosis: ;\n",
    "    b. Phynotypes: age, sex, ;\n",
    "    c. participant_id: anonymized subject id across datasets, sub-<dataset>_<Number>;\n",
    "    d. Imaging modalities: 305 sMRI (T1, R1, R2s MT) + 317 rsfMRI;\n",
    "    e. Visits: baseline +6 month follow up\n",
    "    f. \n"
   ]
  },
  {
   "cell_type": "markdown",
   "metadata": {},
   "source": [
    "# Dataset5: UKB"
   ]
  },
  {
   "cell_type": "markdown",
   "metadata": {},
   "source": [
    "# Dataset6: HBN"
   ]
  }
 ],
 "metadata": {
  "kernelspec": {
   "display_name": "Python 3.9.12 ('base')",
   "language": "python",
   "name": "python3"
  },
  "language_info": {
   "codemirror_mode": {
    "name": "ipython",
    "version": 3
   },
   "file_extension": ".py",
   "mimetype": "text/x-python",
   "name": "python",
   "nbconvert_exporter": "python",
   "pygments_lexer": "ipython3",
   "version": "3.9.12"
  },
  "orig_nbformat": 4,
  "vscode": {
   "interpreter": {
    "hash": "d4d1e4263499bec80672ea0156c357c1ee493ec2b1c70f0acce89fc37c4a6abe"
   }
  }
 },
 "nbformat": 4,
 "nbformat_minor": 2
}
